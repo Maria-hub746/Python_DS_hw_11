{
  "cells": [
    {
      "cell_type": "code",
      "execution_count": null,
      "metadata": {
        "colab": {
          "base_uri": "https://localhost:8080/"
        },
        "id": "y1OpaLr_i4H-",
        "outputId": "aaa1bee7-5523-4304-d90b-5c9fedc01b3c"
      },
      "outputs": [
        {
          "name": "stdout",
          "output_type": "stream",
          "text": [
            "Downloading data from https://storage.googleapis.com/tensorflow/tf-keras-datasets/imdb.npz\n",
            "17464789/17464789 [==============================] - 0s 0us/step\n"
          ]
        }
      ],
      "source": [
        "import numpy as np\n",
        "from tensorflow.keras.datasets import imdb\n",
        "from tensorflow.keras.preprocessing.sequence import pad_sequences\n",
        "from tensorflow.keras.models import Sequential\n",
        "from tensorflow.keras.layers import Embedding, SimpleRNN, LSTM, Bidirectional, Dense\n",
        "\n",
        "max_features = 10000\n",
        "maxlen = 200\n",
        "\n",
        "(X_train, y_train), (X_test, y_test) = imdb.load_data(num_words=max_features)\n",
        "X_train = pad_sequences(X_train, maxlen=maxlen)\n",
        "X_test = pad_sequences(X_test, maxlen=maxlen)"
      ]
    },
    {
      "cell_type": "markdown",
      "metadata": {
        "id": "i1PkgzO3qZBt"
      },
      "source": [
        "# RNN\n"
      ]
    },
    {
      "cell_type": "code",
      "execution_count": null,
      "metadata": {
        "colab": {
          "base_uri": "https://localhost:8080/"
        },
        "id": "r-50-PzwqWub",
        "outputId": "315f76ab-e97a-4692-9b5f-229c45f1258f"
      },
      "outputs": [
        {
          "name": "stdout",
          "output_type": "stream",
          "text": [
            "Model: \"sequential\"\n",
            "_________________________________________________________________\n",
            " Layer (type)                Output Shape              Param #   \n",
            "=================================================================\n",
            " embedding (Embedding)       (None, None, 32)          320000    \n",
            "                                                                 \n",
            " simple_rnn (SimpleRNN)      (None, 64)                6208      \n",
            "                                                                 \n",
            " dense (Dense)               (None, 1)                 65        \n",
            "                                                                 \n",
            "=================================================================\n",
            "Total params: 326,273\n",
            "Trainable params: 326,273\n",
            "Non-trainable params: 0\n",
            "_________________________________________________________________\n"
          ]
        }
      ],
      "source": [
        "model_rnn = Sequential()\n",
        "model_rnn.add(Embedding(max_features, 32))\n",
        "model_rnn.add(SimpleRNN(64))\n",
        "model_rnn.add(Dense(1, activation='sigmoid'))\n",
        "\n",
        "model_rnn.compile(optimizer='adam', loss='binary_crossentropy', metrics=['accuracy'])\n",
        "\n",
        "model_rnn.summary()"
      ]
    },
    {
      "cell_type": "code",
      "execution_count": null,
      "metadata": {
        "colab": {
          "base_uri": "https://localhost:8080/"
        },
        "id": "mvAu8UoSq2Y6",
        "outputId": "83c9e801-62e8-4a39-d9f0-3544f9a37693"
      },
      "outputs": [
        {
          "name": "stdout",
          "output_type": "stream",
          "text": [
            "Epoch 1/10\n",
            "196/196 [==============================] - 31s 148ms/step - loss: 0.6542 - accuracy: 0.5986 - val_loss: 0.4651 - val_accuracy: 0.7905\n",
            "Epoch 2/10\n",
            "196/196 [==============================] - 24s 125ms/step - loss: 0.4431 - accuracy: 0.8042 - val_loss: 0.4023 - val_accuracy: 0.8294\n",
            "Epoch 3/10\n",
            "196/196 [==============================] - 24s 124ms/step - loss: 0.3399 - accuracy: 0.8556 - val_loss: 0.4183 - val_accuracy: 0.8148\n",
            "Epoch 4/10\n",
            "196/196 [==============================] - 25s 129ms/step - loss: 0.2982 - accuracy: 0.8798 - val_loss: 0.4049 - val_accuracy: 0.8368\n",
            "Epoch 5/10\n",
            "196/196 [==============================] - 24s 122ms/step - loss: 0.2440 - accuracy: 0.9065 - val_loss: 0.4225 - val_accuracy: 0.8212\n",
            "Epoch 6/10\n",
            "196/196 [==============================] - 25s 129ms/step - loss: 0.2140 - accuracy: 0.9193 - val_loss: 0.4264 - val_accuracy: 0.8293\n",
            "Epoch 7/10\n",
            "196/196 [==============================] - 28s 145ms/step - loss: 0.1582 - accuracy: 0.9446 - val_loss: 0.4507 - val_accuracy: 0.8419\n",
            "Epoch 8/10\n",
            "196/196 [==============================] - 28s 142ms/step - loss: 0.1240 - accuracy: 0.9582 - val_loss: 0.5318 - val_accuracy: 0.7908\n",
            "Epoch 9/10\n",
            "196/196 [==============================] - 24s 120ms/step - loss: 0.1450 - accuracy: 0.9446 - val_loss: 0.6754 - val_accuracy: 0.6519\n",
            "Epoch 10/10\n",
            "196/196 [==============================] - 28s 143ms/step - loss: 0.4343 - accuracy: 0.7862 - val_loss: 0.5385 - val_accuracy: 0.7706\n",
            "Test Accuracy: 77.06%\n"
          ]
        }
      ],
      "source": [
        "model_rnn.fit(X_train, y_train, validation_data=(X_test, y_test), epochs=10, batch_size=128)\n",
        "\n",
        "loss, accuracy = model_rnn.evaluate(X_test, y_test, verbose=0)\n",
        "print('Test Accuracy: {:.2f}%'.format(accuracy * 100))"
      ]
    },
    {
      "cell_type": "markdown",
      "metadata": {
        "id": "7Tar_XUAqgrc"
      },
      "source": [
        "# LSTM"
      ]
    },
    {
      "cell_type": "code",
      "execution_count": null,
      "metadata": {
        "colab": {
          "base_uri": "https://localhost:8080/"
        },
        "id": "cQqtk4ZpqhlU",
        "outputId": "1f7d1faf-f849-447e-dd1b-3ac026dd3654"
      },
      "outputs": [
        {
          "name": "stdout",
          "output_type": "stream",
          "text": [
            "Model: \"sequential_1\"\n",
            "_________________________________________________________________\n",
            " Layer (type)                Output Shape              Param #   \n",
            "=================================================================\n",
            " embedding_1 (Embedding)     (None, None, 32)          320000    \n",
            "                                                                 \n",
            " lstm (LSTM)                 (None, 64)                24832     \n",
            "                                                                 \n",
            " dense_1 (Dense)             (None, 1)                 65        \n",
            "                                                                 \n",
            "=================================================================\n",
            "Total params: 344,897\n",
            "Trainable params: 344,897\n",
            "Non-trainable params: 0\n",
            "_________________________________________________________________\n"
          ]
        }
      ],
      "source": [
        "model_lstm = Sequential()\n",
        "model_lstm.add(Embedding(max_features, 32))\n",
        "model_lstm.add(LSTM(64))\n",
        "model_lstm.add(Dense(1, activation='sigmoid'))\n",
        "\n",
        "model_lstm.compile(optimizer='adam', loss='binary_crossentropy', metrics=['accuracy'])\n",
        "\n",
        "model_lstm.summary()"
      ]
    },
    {
      "cell_type": "code",
      "execution_count": null,
      "metadata": {
        "colab": {
          "base_uri": "https://localhost:8080/"
        },
        "id": "a7QIKUtRrEX6",
        "outputId": "a9366eb3-061f-467a-d319-8c786f146f09"
      },
      "outputs": [
        {
          "name": "stdout",
          "output_type": "stream",
          "text": [
            "Epoch 1/10\n",
            "196/196 [==============================] - 89s 439ms/step - loss: 0.4721 - accuracy: 0.7738 - val_loss: 0.3139 - val_accuracy: 0.8672\n",
            "Epoch 2/10\n",
            "196/196 [==============================] - 104s 533ms/step - loss: 0.2433 - accuracy: 0.9054 - val_loss: 0.3216 - val_accuracy: 0.8720\n",
            "Epoch 3/10\n",
            "196/196 [==============================] - 103s 526ms/step - loss: 0.1862 - accuracy: 0.9328 - val_loss: 0.3160 - val_accuracy: 0.8706\n",
            "Epoch 4/10\n",
            "196/196 [==============================] - 104s 529ms/step - loss: 0.1531 - accuracy: 0.9458 - val_loss: 0.4486 - val_accuracy: 0.8527\n",
            "Epoch 5/10\n",
            "196/196 [==============================] - 103s 525ms/step - loss: 0.1302 - accuracy: 0.9552 - val_loss: 0.3885 - val_accuracy: 0.8629\n",
            "Epoch 6/10\n",
            "196/196 [==============================] - 101s 513ms/step - loss: 0.0903 - accuracy: 0.9716 - val_loss: 0.6018 - val_accuracy: 0.8466\n",
            "Epoch 7/10\n",
            "196/196 [==============================] - 82s 418ms/step - loss: 0.0751 - accuracy: 0.9758 - val_loss: 0.4826 - val_accuracy: 0.8527\n",
            "Epoch 8/10\n",
            "196/196 [==============================] - 101s 518ms/step - loss: 0.0667 - accuracy: 0.9780 - val_loss: 0.7223 - val_accuracy: 0.8404\n",
            "Epoch 9/10\n",
            "196/196 [==============================] - 104s 531ms/step - loss: 0.0584 - accuracy: 0.9810 - val_loss: 0.6078 - val_accuracy: 0.8426\n",
            "Epoch 10/10\n",
            "196/196 [==============================] - 102s 524ms/step - loss: 0.0478 - accuracy: 0.9853 - val_loss: 0.5353 - val_accuracy: 0.8484\n",
            "Test Accuracy: 84.84%\n"
          ]
        }
      ],
      "source": [
        "model_lstm.fit(X_train, y_train, validation_data=(X_test, y_test), epochs=10, batch_size=128)\n",
        "\n",
        "loss, accuracy = model_lstm.evaluate(X_test, y_test, verbose=0)\n",
        "print('Test Accuracy: {:.2f}%'.format(accuracy * 100))\n"
      ]
    },
    {
      "attachments": {},
      "cell_type": "markdown",
      "metadata": {
        "id": "u08IWCj9qkoL"
      },
      "source": [
        "# Bidirectional"
      ]
    },
    {
      "cell_type": "code",
      "execution_count": null,
      "metadata": {
        "colab": {
          "base_uri": "https://localhost:8080/"
        },
        "id": "YGsmORH6qpNj",
        "outputId": "d676ce95-6ba6-46ff-c487-e3dbbbaf3f4b"
      },
      "outputs": [
        {
          "name": "stdout",
          "output_type": "stream",
          "text": [
            "Model: \"sequential_2\"\n",
            "_________________________________________________________________\n",
            " Layer (type)                Output Shape              Param #   \n",
            "=================================================================\n",
            " embedding_2 (Embedding)     (None, None, 32)          320000    \n",
            "                                                                 \n",
            " bidirectional (Bidirectiona  (None, 128)              49664     \n",
            " l)                                                              \n",
            "                                                                 \n",
            " dense_2 (Dense)             (None, 1)                 129       \n",
            "                                                                 \n",
            "=================================================================\n",
            "Total params: 369,793\n",
            "Trainable params: 369,793\n",
            "Non-trainable params: 0\n",
            "_________________________________________________________________\n"
          ]
        }
      ],
      "source": [
        "model_bidirectional = Sequential()\n",
        "model_bidirectional.add(Embedding(max_features, 32))\n",
        "model_bidirectional.add(Bidirectional(LSTM(64)))\n",
        "model_bidirectional.add(Dense(1, activation='sigmoid'))\n",
        "\n",
        "model_bidirectional.compile(optimizer='adam', loss='binary_crossentropy', metrics=['accuracy'])\n",
        "\n",
        "model_bidirectional.summary()"
      ]
    },
    {
      "cell_type": "code",
      "execution_count": null,
      "metadata": {
        "colab": {
          "base_uri": "https://localhost:8080/"
        },
        "id": "OZ5KBOXqrIN_",
        "outputId": "a1c1810a-232f-4965-c84c-439df1c6d75a"
      },
      "outputs": [
        {
          "name": "stdout",
          "output_type": "stream",
          "text": [
            "Epoch 1/10\n",
            "196/196 [==============================] - 149s 740ms/step - loss: 0.4703 - accuracy: 0.7699 - val_loss: 0.3274 - val_accuracy: 0.8655\n",
            "Epoch 2/10\n",
            "196/196 [==============================] - 145s 737ms/step - loss: 0.2471 - accuracy: 0.9058 - val_loss: 0.3040 - val_accuracy: 0.8704\n",
            "Epoch 3/10\n",
            "196/196 [==============================] - 146s 748ms/step - loss: 0.1847 - accuracy: 0.9316 - val_loss: 0.3222 - val_accuracy: 0.8692\n",
            "Epoch 4/10\n",
            "196/196 [==============================] - 137s 698ms/step - loss: 0.1518 - accuracy: 0.9475 - val_loss: 0.3467 - val_accuracy: 0.8602\n",
            "Epoch 5/10\n",
            "196/196 [==============================] - 147s 750ms/step - loss: 0.1267 - accuracy: 0.9555 - val_loss: 0.4532 - val_accuracy: 0.8486\n",
            "Epoch 6/10\n",
            "196/196 [==============================] - 145s 739ms/step - loss: 0.1015 - accuracy: 0.9654 - val_loss: 0.3887 - val_accuracy: 0.8576\n",
            "Epoch 7/10\n",
            "196/196 [==============================] - 145s 742ms/step - loss: 0.0846 - accuracy: 0.9718 - val_loss: 0.4458 - val_accuracy: 0.8505\n",
            "Epoch 8/10\n",
            "196/196 [==============================] - 144s 735ms/step - loss: 0.0724 - accuracy: 0.9762 - val_loss: 0.5216 - val_accuracy: 0.8490\n",
            "Epoch 9/10\n",
            "196/196 [==============================] - 143s 729ms/step - loss: 0.0762 - accuracy: 0.9732 - val_loss: 0.5929 - val_accuracy: 0.8521\n",
            "Epoch 10/10\n",
            "196/196 [==============================] - 144s 733ms/step - loss: 0.0623 - accuracy: 0.9793 - val_loss: 0.5841 - val_accuracy: 0.8494\n",
            "Test Accuracy: 84.94%\n"
          ]
        }
      ],
      "source": [
        "model_bidirectional.fit(X_train, y_train, validation_data=(X_test, y_test), epochs=10, batch_size=128)\n",
        "\n",
        "loss, accuracy = model_bidirectional.evaluate(X_test, y_test, verbose=0)\n",
        "print('Test Accuracy: {:.2f}%'.format(accuracy * 100))"
      ]
    },
    {
      "cell_type": "markdown",
      "metadata": {
        "id": "SfyoZ_-EwzMY"
      },
      "source": [
        "**Bidirectional**\n",
        "\n",
        "**5 епох**, 12 хвилин, точність 85.76%\n",
        "\n",
        "**10 епох**, виконання 25 хвилин, точність 84.94%. Попри зниження точності після перших кількох епох, модель Bidirectional все ще показує достатньо високу точність"
      ]
    },
    {
      "attachments": {},
      "cell_type": "markdown",
      "metadata": {
        "id": "g6G_CA_vqtAj"
      },
      "source": [
        "# Deep\n"
      ]
    },
    {
      "cell_type": "code",
      "execution_count": null,
      "metadata": {
        "colab": {
          "base_uri": "https://localhost:8080/"
        },
        "id": "s08wXirYqwrL",
        "outputId": "b07fc52a-05b6-4c5b-ad17-5632d3405acd"
      },
      "outputs": [
        {
          "name": "stdout",
          "output_type": "stream",
          "text": [
            "Model: \"sequential_3\"\n",
            "_________________________________________________________________\n",
            " Layer (type)                Output Shape              Param #   \n",
            "=================================================================\n",
            " embedding_3 (Embedding)     (None, None, 32)          320000    \n",
            "                                                                 \n",
            " lstm_2 (LSTM)               (None, None, 64)          24832     \n",
            "                                                                 \n",
            " lstm_3 (LSTM)               (None, 64)                33024     \n",
            "                                                                 \n",
            " dense_3 (Dense)             (None, 1)                 65        \n",
            "                                                                 \n",
            "=================================================================\n",
            "Total params: 377,921\n",
            "Trainable params: 377,921\n",
            "Non-trainable params: 0\n",
            "_________________________________________________________________\n"
          ]
        }
      ],
      "source": [
        "model_deep = Sequential()\n",
        "model_deep.add(Embedding(max_features, 32))\n",
        "model_deep.add(LSTM(64, return_sequences=True))\n",
        "model_deep.add(LSTM(64))\n",
        "model_deep.add(Dense(1, activation='sigmoid'))\n",
        "\n",
        "model_deep.compile(optimizer='adam', loss='binary_crossentropy', metrics=['accuracy'])\n",
        "\n",
        "model_deep.summary()"
      ]
    },
    {
      "cell_type": "code",
      "execution_count": null,
      "metadata": {
        "colab": {
          "base_uri": "https://localhost:8080/"
        },
        "id": "dHGnVdimrLSR",
        "outputId": "38074ea2-d324-43e9-c9e6-55571b93db94"
      },
      "outputs": [
        {
          "name": "stdout",
          "output_type": "stream",
          "text": [
            "Epoch 1/10\n",
            "196/196 [==============================] - 223s 1s/step - loss: 0.4560 - accuracy: 0.7718 - val_loss: 0.3188 - val_accuracy: 0.8656\n",
            "Epoch 2/10\n",
            "196/196 [==============================] - 214s 1s/step - loss: 0.2531 - accuracy: 0.9003 - val_loss: 0.3200 - val_accuracy: 0.8669\n",
            "Epoch 3/10\n",
            "196/196 [==============================] - 215s 1s/step - loss: 0.1890 - accuracy: 0.9301 - val_loss: 0.3745 - val_accuracy: 0.8650\n",
            "Epoch 4/10\n",
            "196/196 [==============================] - 212s 1s/step - loss: 0.1521 - accuracy: 0.9460 - val_loss: 0.4169 - val_accuracy: 0.8536\n",
            "Epoch 5/10\n",
            "196/196 [==============================] - 213s 1s/step - loss: 0.1202 - accuracy: 0.9598 - val_loss: 0.4419 - val_accuracy: 0.8449\n",
            "Epoch 6/10\n",
            "196/196 [==============================] - 216s 1s/step - loss: 0.1036 - accuracy: 0.9640 - val_loss: 0.4043 - val_accuracy: 0.8522\n",
            "Epoch 7/10\n",
            "196/196 [==============================] - 214s 1s/step - loss: 0.0703 - accuracy: 0.9780 - val_loss: 0.5481 - val_accuracy: 0.8524\n",
            "Epoch 8/10\n",
            "196/196 [==============================] - 213s 1s/step - loss: 0.0532 - accuracy: 0.9831 - val_loss: 0.5215 - val_accuracy: 0.8491\n",
            "Epoch 9/10\n",
            "196/196 [==============================] - 215s 1s/step - loss: 0.0448 - accuracy: 0.9863 - val_loss: 0.6578 - val_accuracy: 0.8470\n",
            "Epoch 10/10\n",
            "196/196 [==============================] - 212s 1s/step - loss: 0.0480 - accuracy: 0.9846 - val_loss: 0.5847 - val_accuracy: 0.8461\n",
            "Test Accuracy: 84.61%\n"
          ]
        }
      ],
      "source": [
        "model_deep.fit(X_train, y_train, validation_data=(X_test, y_test), epochs=10, batch_size=128)\n",
        "\n",
        "loss, accuracy = model_deep.evaluate(X_test, y_test, verbose=0)\n",
        "print('Test Accuracy: {:.2f}%'.format(accuracy * 100))"
      ]
    },
    {
      "attachments": {},
      "cell_type": "markdown",
      "metadata": {
        "id": "WcynnwB13arg"
      },
      "source": [
        "Після тренування моделей протягом 5 епох LSTM та Bidirectional показують кращі результати, оскільки вони можуть краще усвідомлювати довгострокові залежності в тексті."
      ]
    }
  ],
  "metadata": {
    "colab": {
      "provenance": []
    },
    "kernelspec": {
      "display_name": "Python 3",
      "name": "python3"
    },
    "language_info": {
      "name": "python"
    }
  },
  "nbformat": 4,
  "nbformat_minor": 0
}
